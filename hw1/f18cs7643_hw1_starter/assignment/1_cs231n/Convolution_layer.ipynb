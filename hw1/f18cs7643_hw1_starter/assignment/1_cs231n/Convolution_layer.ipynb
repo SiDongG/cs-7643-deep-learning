{
 "cells": [
  {
   "cell_type": "code",
   "execution_count": 8,
   "metadata": {},
   "outputs": [],
   "source": [
    "import numpy as np; import torch\n",
    "k = np.array(\n",
    "    [\n",
    "        [1,0,-1],\n",
    "        [2,0,-2],\n",
    "        [1,0,-1]\n",
    "    ]).reshape(1,1,3,3).astype(np.float32)"
   ]
  },
  {
   "cell_type": "code",
   "execution_count": 9,
   "metadata": {},
   "outputs": [],
   "source": [
    "x = np.array(\n",
    "    [\n",
    "        [1,1,1,2,3],\n",
    "        [1,1,1,2,3],\n",
    "        [1,1,1,2,3],\n",
    "        [2,2,2,2,3],\n",
    "        [3,3,3,3,3],\n",
    "        [4,4,4,4,4]\n",
    "    ]).reshape(1,1,6,5).astype(np.float32)"
   ]
  },
  {
   "cell_type": "code",
   "execution_count": 11,
   "metadata": {},
   "outputs": [
    {
     "name": "stdout",
     "output_type": "stream",
     "text": [
      "tensor([[[[ 0., -4., -8.],\n",
      "          [ 0., -3., -7.],\n",
      "          [ 0., -1., -4.],\n",
      "          [ 0.,  0., -1.]]]], grad_fn=<ConvolutionBackward0>)\n"
     ]
    }
   ],
   "source": [
    "conv = torch.nn.Conv2d(\n",
    "    in_channels=1,\n",
    "    out_channels=1,\n",
    "    kernel_size=3,\n",
    "    bias=False,\n",
    "    stride = 1,\n",
    "    padding_mode='zeros',\n",
    "    padding=0\n",
    ")\n",
    "\n",
    "x_tensor = torch.from_numpy(x)\n",
    "x_tensor.requires_grad = True\n",
    "conv.weight = torch.nn.Parameter(torch.from_numpy(k))\n",
    "out = conv(x_tensor)\n",
    "print(out)"
   ]
  },
  {
   "cell_type": "code",
   "execution_count": 12,
   "metadata": {},
   "outputs": [
    {
     "name": "stdout",
     "output_type": "stream",
     "text": [
      "tensor([[[[15., 18., 25.],\n",
      "          [21., 23., 28.],\n",
      "          [30., 31., 34.]]]])\n",
      "tensor([[[[ 1.,  1.,  0., -1., -1.],\n",
      "          [ 3.,  3.,  0., -3., -3.],\n",
      "          [ 4.,  4.,  0., -4., -4.],\n",
      "          [ 4.,  4.,  0., -4., -4.],\n",
      "          [ 3.,  3.,  0., -3., -3.],\n",
      "          [ 1.,  1.,  0., -1., -1.]]]])\n"
     ]
    }
   ],
   "source": [
    "loss = out.sum()\n",
    "loss.backward()\n",
    "print(conv.weight.grad)\n",
    "print(x_tensor.grad)"
   ]
  },
  {
   "cell_type": "code",
   "execution_count": null,
   "metadata": {},
   "outputs": [],
   "source": []
  }
 ],
 "metadata": {
  "kernelspec": {
   "display_name": "Python 3",
   "language": "python",
   "name": "python3"
  },
  "language_info": {
   "codemirror_mode": {
    "name": "ipython",
    "version": 3
   },
   "file_extension": ".py",
   "mimetype": "text/x-python",
   "name": "python",
   "nbconvert_exporter": "python",
   "pygments_lexer": "ipython3",
   "version": "3.8.9"
  },
  "orig_nbformat": 4
 },
 "nbformat": 4,
 "nbformat_minor": 2
}
